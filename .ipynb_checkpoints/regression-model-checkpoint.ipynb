{
 "cells": [
  {
   "cell_type": "markdown",
   "id": "9fbe9545",
   "metadata": {},
   "source": [
    "# Simple network\n",
    "We need to import needed libraries first"
   ]
  },
  {
   "cell_type": "code",
   "execution_count": 138,
   "id": "32730ea7",
   "metadata": {},
   "outputs": [],
   "source": [
    "import numpy as np\n",
    "import matplotlib.pyplot as plt\n"
   ]
  },
  {
   "cell_type": "code",
   "execution_count": 142,
   "id": "9170f534",
   "metadata": {},
   "outputs": [
    {
     "data": {
      "image/png": "[encoded data removed]",
      "text/plain": [
       "<Figure size 640x480 with 1 Axes>"
      ]
     },
     "metadata": {},
     "output_type": "display_data"
    }
   ],
   "source": [
    "# Create features\n",
    "x = np.array([[-5.0, 2.0, 8.0]])\n",
    "# Create labels\n",
    "y = np.array([[5.0, 12.0, 18.0]])\n",
    "plt.scatter(x, y);"
   ]
  },
  {
   "cell_type": "markdown",
   "id": "6f5d6b84",
   "metadata": {},
   "source": [
    "- what will be the value y when the input is 17?\n",
    "- $y=x+10$\n",
    "- lets create simple neural network with one hidden layer to check that\n",
    "\n",
    "## Simple network math\n",
    "- input nodes are marked as $x_i$, hidden nodes as $h_i$ output nodes as $y_i$ and weights as $a_{ij}, b_{ij},...$\n",
    "- to create output on our network we need to define how the network behaves in a first place\n",
    "[NN image](https://upload.wikimedia.org/wikipedia/commons/thumb/e/e4/Artificial_neural_network.svg/1920px-Artificial_neural_network.svg.png)\n",
    "## Feedforward\n",
    "- this part takes care of the calculation of output values of our network\n",
    "### Hidden layer inputs\n",
    "- $x_i$ values are defined as our features,\n",
    "- $h_j^{in=input}$ values are calculated as follows: \n",
    "    \\begin{equation}\n",
    "        h_1^{in} = x_1 * a_{11} + x_2 * a_{21} + ... + x_i * a_{i1} \\rightarrow \\sum_ix_i*a_{i1} \\\\\n",
    "        h_2^{in} = x_1 * a_{12} + x_2 * a_{22} + ... + x_i * a_{i2} \\rightarrow \\sum_ix_i*a_{i1} \\\\\n",
    "        h_3^{in} = x_1 * a_{13} + x_2 * a_{23} + ... + x_i * a_{i3} \\rightarrow \\sum_ix_i*a_{i3} \\\\\n",
    "        h_4^{in} = x_1 * a_{14} + x_2 * a_{24} + ... + x_i * a_{i4} \\rightarrow \\sum_ix_i*a_{i4}\n",
    "    \\end{equation}\n",
    "- or more generally as:\n",
    "    \\begin{equation}\n",
    "        h_j^{in} = x_1 * a_{1j} + x_2 * a_{2j} + ... + x_i * a_{ij} \\rightarrow \\sum_ix_i*a_{ij}\n",
    "    \\end{equation}\n",
    "    \n",
    "- we can use Matrix theory to ease things out:\n",
    "\n",
    "    \\begin{equation}\n",
    "         x_{1\\times4} =\n",
    "          \\left[\n",
    "              {\\begin{array}{cc}\n",
    "                  x_{11} & x_{12} & x_{13}\n",
    "              \\end{array}} \n",
    "          \\right],\n",
    "         h_{1\\times4}^{in} = \n",
    "          \\left[\n",
    "              {\\begin{array}{cc}\n",
    "                  h_{11} & h_{12} & h_{13} & h_{14}\n",
    "              \\end{array}} \n",
    "          \\right]\n",
    "    \\end{equation}\n",
    "\n",
    "\n",
    "- in our case the input, and hidden layer values takes vector form, thus we can skip the first index to make things more clear:\n",
    "\n",
    "    \\begin{equation}\n",
    "         x_{1\\times4} =\n",
    "          \\left[\n",
    "              {\\begin{array}{cc}\n",
    "                  x_{1} & x_{2} & x_{3}\n",
    "              \\end{array}} \n",
    "          \\right],\n",
    "         h_{1\\times4}^{in} = \n",
    "          \\left[\n",
    "              {\\begin{array}{cc}\n",
    "                  h_{1} & h_{2} & h_{3} & h_{4}\n",
    "              \\end{array}} \n",
    "          \\right]\n",
    "    \\end{equation}\n",
    "\n",
    "- the matrix of the $a$ weights will then look as follows:\n",
    "\n",
    "    \\begin{equation}\n",
    "         a_{3\\times4} =\n",
    "          \\left[\n",
    "              {\\begin{array}{cc}\n",
    "                  a_{11} & a_{12} & a_{13} & a_{14} \\\\\n",
    "                  a_{21} & a_{22} & a_{23} & a_{24} \\\\\n",
    "                  a_{31} & a_{32} & a_{33} & a_{34}\n",
    "              \\end{array}} \n",
    "          \\right]\n",
    "    \\end{equation}\n",
    "\n",
    "- in this way we can now use matrix multiplication:\n",
    "\n",
    "    \\begin{equation}\n",
    "        x_{1\\times4} \\cdot a_{3\\times4} =  h_{1\\times4}^{in}\n",
    "    \\end{equation}\n",
    "\n",
    "- which in a matrix form looks like:\n",
    "\n",
    "    \\begin{equation}\n",
    "          \\left[\n",
    "              {\\begin{array}{cc}\n",
    "                  x_{1} & x_{2} & x_{3}\n",
    "              \\end{array}} \n",
    "          \\right] \\cdot\n",
    "          \\left[\n",
    "              {\\begin{array}{cc}\n",
    "                  a_{11} & a_{12} & a_{13} & a_{14} \\\\\n",
    "                  a_{21} & a_{22} & a_{23} & a_{24} \\\\\n",
    "                  a_{31} & a_{32} & a_{33} & a_{34}\n",
    "              \\end{array}} \n",
    "          \\right]\n",
    "          = \n",
    "          \\left[\n",
    "              {\\begin{array}{cc}\n",
    "                  h_{1} & h_{2} & h_{3} & h_{4}\n",
    "              \\end{array}} \n",
    "          \\right]\n",
    "    \\end{equation}"
   ]
  },
  {
   "cell_type": "code",
   "execution_count": 160,
   "id": "88a231e3",
   "metadata": {
    "scrolled": true
   },
   "outputs": [
    {
     "name": "stdout",
     "output_type": "stream",
     "text": [
      "x=[[-5.  2.  8.]]\n",
      "a=[[ 1.98506256  1.46874482  1.37213381 -1.52408487]\n",
      " [ 0.6851929   0.37854112  1.59161992  0.6792583 ]\n",
      " [-1.80548954 -0.22627862 -1.43791179  0.97739429]]\n",
      "h_in=[[-22.9988433   -8.39687078 -15.18072351  16.79809531]]\n"
     ]
    }
   ],
   "source": [
    "# Generate parameters\n",
    "h_dimension = 4\n",
    "\n",
    "# Print our values\n",
    "print(f'x={x}')\n",
    "\n",
    "# Generate 'a' weights\n",
    "a = np.random.randn(3, h_dimension)\n",
    "print(f'a={a}')\n",
    "\n",
    "# Calulate h_in\n",
    "h_in = x.dot(a)\n",
    "print(f'h_in={h_in}')"
   ]
  },
  {
   "cell_type": "markdown",
   "id": "8e7a4a45",
   "metadata": {},
   "source": [
    "### Hidden layer outputs\n",
    "- every hidden node uses activation function to set up the node activation threshold\n",
    "- in our case we will use ReLU function as it have easy derivative\n",
    "- thus, the - $h_j^{out=output}$ values are defined as follows: \n",
    "    \\begin{equation}\n",
    "        h_j^{out} = F_{ReLU}(h_j^{in}) \\\\\n",
    "        h_{1\\times4}^{out} = F_{ReLU}(h_{1\\times4}^{in})\n",
    "    \\end{equation}\n",
    "- ReLU looks like this:\n",
    "![ReLU](https://machinelearningmastery.com/wp-content/uploads/2018/10/Line-Plot-of-Rectified-Linear-Activation-for-Negative-and-Positive-Inputs.png)\n",
    "- thus, we can just take the maximum from $(0, h_j^{out})$\n"
   ]
  },
  {
   "cell_type": "code",
   "execution_count": 153,
   "id": "ad91c420",
   "metadata": {},
   "outputs": [
    {
     "name": "stdout",
     "output_type": "stream",
     "text": [
      "h_out=[[ 4.42359033  0.          0.         12.7225866 ]]\n"
     ]
    }
   ],
   "source": [
    "# Calulate h_out\n",
    "h_out = np.maximum(0, h_in)\n",
    "print(f'h_out={h_out}')"
   ]
  },
  {
   "cell_type": "markdown",
   "id": "9c30e86c",
   "metadata": {},
   "source": [
    "### Output layer values\n",
    "- $y_i^{out=output}$ values are calculated as follows: \n",
    "    \\begin{equation}\n",
    "        y_1^{out} = h_1^{out} * b_{11} + h_2^{out} b_{21} + ... + h_i^{out} * b_{i1} \\rightarrow \\sum_ih_i^{out}*b_{i1} \\\\\n",
    "        y_2^{out} = h_1^{out} * b_{12} + h_2^{out} b_{22} + ... + h_i^{out} * b_{i2} \\rightarrow \\sum_ih_i^{out}*b_{i2} \\\\\n",
    "        y_3^{out} = h_1^{out} * b_{13} + h_2^{out} b_{23} + ... + h_i^{out} * b_{i3} \\rightarrow \\sum_ih_i^{out}*b_{i3} \\\\\n",
    "    \\end{equation}\n",
    "- or more generally as:\n",
    "    \\begin{equation}\n",
    "        y_j^{out} = h_1^{out} * b_{1j} + h_2^{out} * b_{2j} + ... + h_i^{out} * b_{ij} \\rightarrow \\sum_ih_i^{out}*b_{ij}\n",
    "    \\end{equation}\n",
    "- as previously we can use matrix forms (skipping first index on $y$ vector):\n",
    "\n",
    "    \\begin{equation}\n",
    "        h_{1\\times4} \\cdot b_{4\\times3} =  y_{1\\times3}^{out} \\\\\n",
    "          \\left[\n",
    "              {\\begin{array}{cc}\n",
    "                  h_{1} & h_{2} & h_{3} & h_{4}\n",
    "              \\end{array}} \n",
    "          \\right] \\cdot\n",
    "          \\left[\n",
    "              {\\begin{array}{cc}\n",
    "                  b_{11} & b_{12} & b_{13} \\\\\n",
    "                  b_{21} & b_{22} & b_{23} \\\\\n",
    "                  b_{31} & b_{32} & b_{33} \\\\\n",
    "                  b_{41} & b_{42} & b_{43} \\\\\n",
    "              \\end{array}} \n",
    "          \\right]\n",
    "          = \n",
    "          \\left[\n",
    "              {\\begin{array}{cc}\n",
    "                  y_{1} & y_{2} & y_{3}\n",
    "              \\end{array}} \n",
    "          \\right]\n",
    "    \\end{equation}"
   ]
  },
  {
   "cell_type": "code",
   "execution_count": 161,
   "id": "1f884ca2",
   "metadata": {
    "scrolled": true
   },
   "outputs": [
    {
     "name": "stdout",
     "output_type": "stream",
     "text": [
      "b=[[-0.16732644  1.54768413 -0.61954331]\n",
      " [ 0.1259186   0.43695235 -0.64217188]\n",
      " [-0.03279898 -0.49422134  0.33206465]\n",
      " [-1.40325138  2.12534167 -1.44589227]]\n",
      "y_out=[[-18.59317089  33.88616402 -21.13609535]]\n"
     ]
    }
   ],
   "source": [
    "# Generate 'b' weights\n",
    "b = np.random.randn(h_dimension, 3)\n",
    "print(f'b={b}')\n",
    "\n",
    "# Calulate y_out\n",
    "y_out = h_out.dot(b)\n",
    "print(f'y_out={y_out}')"
   ]
  },
  {
   "cell_type": "markdown",
   "id": "30682569",
   "metadata": {},
   "source": [
    "- in the end we got $y^{out}$ values which can be compared with true $y$ values with the help of loss function which 'measures' how far our $y_out$ differs from true $y$\n",
    "- loss function is defined as:\n",
    "    \\begin{equation}\n",
    "        F^{loss}(y, y_{out}) = (y_{out} - y)^2\n",
    "    \\end{equation}"
   ]
  },
  {
   "cell_type": "code",
   "execution_count": 163,
   "id": "49cc6f7d",
   "metadata": {},
   "outputs": [
    {
     "name": "stdout",
     "output_type": "stream",
     "text": [
      "f_loss=[[ 556.63771262  479.00417556 1531.63395891]]\n",
      "f_loss_sum=2567.2758470915232\n"
     ]
    }
   ],
   "source": [
    "# Calculate loss function\n",
    "f_loss = np.square(y_out - y)\n",
    "print(f'f_loss={f_loss}')\n",
    "f_loss_sum = f_loss.sum()\n",
    "print(f'f_loss_sum={f_loss_sum}')"
   ]
  },
  {
   "cell_type": "markdown",
   "id": "6fe0de72",
   "metadata": {},
   "source": [
    "- the output of the loss function should be as close to zero as possible. To get the proper results we need to 'teach' our network\n",
    "## Backpropagation\n",
    "- the only variables that we can actually change are weights values\n",
    "- this part takes care of updating the weights in such a way so the loss function could be minimized in the end\n",
    "- thus, we want to check how the change of weights value impacts our loss function\n",
    "- for this we can use derivatives:\n",
    "    \\begin{equation}\n",
    "        \\frac{dF^{loss}}{da}, \\frac{dF^{loss}}{db}\n",
    "    \\end{equation}\n",
    "- this problem is not trivial as we need to go back through our network architecture and calculate derivatives for every weight (chain rule of loss function)!\n",
    "### Derivative over $b$ weights\n",
    "- Lets check how derivative over $b_{11}$ weight look:\n",
    "\n",
    "    \\begin{equation}\n",
    "        \\frac{dF^{loss}_1}{db_{11}} = \\frac{d}{db_{11}}\\left[ (y_1^{out} - y_1)^2) \\right] \\\\\n",
    "        \\frac{dF^{loss}_1}{db_{11}} = 2(y_1^{out} - y_1)\\frac{d}{db_{11}}\\left[ y_1^{out} - y_1 \\right] \\\\\n",
    "        \\frac{dF^{loss}_1}{db_{11}} = \\Delta y_1\\frac{d}{db_{11}}\\left[ \\sum_{i=1}^4\\left(h_{i}^{out}*b_{i1}\\right) - y_1 \\right] \\\\\n",
    "        \\frac{dF^{loss}_1}{db_{11}} = \\Delta y_1\\frac{d}{db_{11}}\\left[h_{1}^{out}*b_{11} + h_{2}^{out}*b_{21} + h_{3}^{out}*b_{31} + h_{4}^{out}*b_{41}\\right] \\\\\n",
    "        \\frac{dF^{loss}_1}{db_{11}} = \\Delta  y_1\\left[h_1^{out}\\right]\n",
    "    \\end{equation}\n",
    "\n",
    "- where $\\Delta y_i = 2(y_i^{out} - y_i)$\n",
    "- now we know how small change for $b_{11}$ weight value changes our $F_{loss}$\n",
    "- we can notice that changing the first index in the $db_{i1}$ derivative 'selects' given $h_{i}$ from the sum, thus:\n",
    "\n",
    "    \\begin{equation}\n",
    "        \\frac{dF^{loss}_1}{db_{i1}} = \\Delta y_1\\left[h_i^{out}\\right] \\\\ \n",
    "        \\frac{dF^{loss}_2}{db_{i2}} = \\Delta y_2\\left[h_i^{out}\\right] \\\\\n",
    "        \\frac{dF^{loss}_3}{db_{i3}} = \\Delta y_3\\left[h_i^{out}\\right] \\\\\n",
    "        \\frac{dF^{loss}_4}{db_{i4}} = \\Delta y_4\\left[h_i^{out}\\right]\n",
    "    \\end{equation}\n",
    "    \n",
    "- more generally:\n",
    "\n",
    "    \\begin{equation}\n",
    "        \\frac{dF^{loss}_j}{db_{ij}} = \\Delta y_j\\left[h_i^{out}\\right]\n",
    "    \\end{equation}\n",
    "    \n",
    "- using matrix forms:\n",
    "    \n",
    "    \\begin{equation}\n",
    "        (h_{1\\times4}^{out})^T \\cdot \\Delta y_{1\\times3} =  \\frac{dF^{loss}}{db}_{4\\times3} \\\\\n",
    "        \\left[\n",
    "              {\\begin{array}{cc}\n",
    "                  h_{1}^{out} \\\\\n",
    "                  h_{2}^{out} \\\\\n",
    "                  h_{3}^{out} \\\\\n",
    "                  h_{4}^{out} \\\\\n",
    "              \\end{array}} \n",
    "        \\right]\n",
    "        \\cdot\\\n",
    "        \\left[\n",
    "              {\\begin{array}{cc}\n",
    "                  \\Delta y_1 & \\Delta y_2 & \\Delta y_3 \\\\\n",
    "              \\end{array}} \n",
    "        \\right] = \n",
    "        \\left[\n",
    "              {\\begin{array}{cc}\n",
    "                  \\frac{dF^{loss}}{db}_{11} & \\frac{dF^{loss}}{db}_{12} & \\frac{dF^{loss}}{db}_{13} \\\\\n",
    "                  \\frac{dF^{loss}}{db}_{21} & \\frac{dF^{loss}}{db}_{22} & \\frac{dF^{loss}}{db}_{23} \\\\\n",
    "                  \\frac{dF^{loss}}{db}_{31} & \\frac{dF^{loss}}{db}_{32} & \\frac{dF^{loss}}{db}_{33} \\\\\n",
    "                  \\frac{dF^{loss}}{db}_{41} & \\frac{dF^{loss}}{db}_{42} & \\frac{dF^{loss}}{db}_{43}\n",
    "              \\end{array}} \n",
    "        \\right]\n",
    "    \\end{equation}"
   ]
  },
  {
   "cell_type": "code",
   "execution_count": 169,
   "id": "2b5e367a",
   "metadata": {},
   "outputs": [
    {
     "name": "stdout",
     "output_type": "stream",
     "text": [
      "delta_y=[[-47.18634178  43.77232804 -78.27219069]]\n",
      "grad_b=[[-208.73304506  193.63084692 -346.24410562]\n",
      " [  -0.            0.           -0.        ]\n",
      " [  -0.            0.           -0.        ]\n",
      " [-600.33231979  556.89723436 -995.82472473]]\n"
     ]
    }
   ],
   "source": [
    "# Calculate Delta y\n",
    "delta_y = 2 * (y_out - y)\n",
    "print(f'delta_y={delta_y}')\n",
    "\n",
    "# Calculate derivative over 'b' weights\n",
    "grad_b = h_out.T.dot(delta_y)\n",
    "print(f'grad_b={grad_b}')"
   ]
  },
  {
   "cell_type": "markdown",
   "id": "f0231f31",
   "metadata": {},
   "source": [
    "### Derivative over $a$ weights\n",
    "- Lets check how derivative over $a_{11}$ weight look:\n",
    "\n",
    "    \\begin{equation}\n",
    "        \\frac{dF^{loss}_1}{da_{11}} = \\frac{d}{da_{11}}\\left[ (y_1^{out} - y_1)^2) \\right] \\\\\n",
    "        \\frac{dF^{loss}_1}{da_{11}} = \\Delta y_1\\frac{d}{da_{11}}\\left[ y_1^{out} - y_1 \\right] \\\\\n",
    "        \\frac{dF^{loss}_1}{da_{11}} = \\Delta y_1\\frac{d}{da_{11}}\\left[ \\sum_{i=1}^4\\left(h_{i}^{out}*b_{i1}\\right) - y_1 \\right] \\\\\n",
    "        \\frac{dF^{loss}_1}{da_{11}} = \\Delta y_1\\frac{d}{da_{11}}\\left[ \\sum_{i=1}^4\\left(\\left(F_{ReLU}(h_i^{in})\\right)*b_{i1}\\right) - y_1 \\right] \\\\\n",
    "        \\frac{dF^{loss}_1}{da_{11}} = \\Delta y_1\\frac{d}{da_{11}}\\left[ \\sum_{i=1}^4\\left(F_{ReLU}\\left(\\sum_k^3x_k*a_{ki}\\right)*b_{i1}\\right) - y_1 \\right] \\\\\n",
    "        \\frac{dF^{loss}_1}{da_{11}} = \\Delta y_1\\frac{d}{da_{11}}\\left[ \\sum_{i=1}^4\\left(F_{ReLU}\\left(\\sum_k^3x_k*a_{ki}\\right)*b_{i1}\\right) - y_1 \\right]\n",
    "    \\end{equation}"
   ]
  },
  {
   "cell_type": "code",
   "execution_count": null,
   "id": "84d780d5",
   "metadata": {},
   "outputs": [],
   "source": [
    "\n",
    "\n",
    "# Create features\n",
    "x = np.array([[-7.0, -4.0, -1.0, 2.0, 5.0, 8.0, 11.0, 14.0]])\n",
    "# Create labels\n",
    "y = np.array([[3.0, 6.0, 9.0, 12.0, 15.0, 18.0, 21.0, 24.0]])\n",
    "plt.scatter(x, y);\n",
    "\n",
    "# feedforward example\n",
    "\n",
    "H_dimension = 4\n",
    "\n",
    "a = np.random.randn(8, H_dimension)\n",
    "b = np.random.randn(H_dimension, 8)\n",
    "\n",
    "print(\"x=\",x)\n",
    "print(\"y=\",y)\n",
    "h = x.dot(a)\n",
    "print(\"hidden input=\",h)\n",
    "h_relu = np.maximum(h,0)\n",
    "print(\"hidden output=\",h_relu)\n",
    "y_pred = h_relu.dot(b)\n",
    "print(\"prediction=\",y_pred)\n",
    "loss = np.square(y_pred - y)\n",
    "loss_sum=loss.sum()\n",
    "print(\"loss=\",loss,\" loss sum=\",loss_sum)"
   ]
  },
  {
   "cell_type": "code",
   "execution_count": 39,
   "id": "5794fb1b",
   "metadata": {},
   "outputs": [
    {
     "name": "stdout",
     "output_type": "stream",
     "text": [
      "grad_b= [[  31.60770877    6.59073471  -64.9963867    23.49553669   -6.51809923\n",
      "   -61.21353507   -4.90126508  -13.42133006]\n",
      " [   0.            0.           -0.            0.           -0.\n",
      "    -0.           -0.           -0.        ]\n",
      " [   0.            0.           -0.            0.           -0.\n",
      "    -0.           -0.           -0.        ]\n",
      " [   0.            0.           -0.            0.           -0.\n",
      "    -0.           -0.           -0.        ]\n",
      " [   0.            0.           -0.            0.           -0.\n",
      "    -0.           -0.           -0.        ]\n",
      " [  45.77429706    9.54470476  -94.1277944    34.02624606   -9.43951403\n",
      "   -88.64946709   -7.09801413  -19.4367758 ]\n",
      " [   0.            0.           -0.            0.           -0.\n",
      "    -0.           -0.           -0.        ]\n",
      " [   0.            0.           -0.            0.           -0.\n",
      "    -0.           -0.           -0.        ]\n",
      " [  87.96271735   18.34169439 -180.88178532   65.3869367   -18.13955337\n",
      "  -170.35429308  -13.6399825   -37.35090926]\n",
      " [   0.            0.           -0.            0.           -0.\n",
      "    -0.           -0.           -0.        ]]\n",
      "grad_a= [[  1.33054189  -0.          -0.          -0.          -0.\n",
      "   13.25966865  -0.          -0.          25.20153851  -0.        ]\n",
      " [  0.76030965  -0.          -0.          -0.          -0.\n",
      "    7.57695351  -0.          -0.          14.40087915  -0.        ]\n",
      " [  0.19007741  -0.          -0.          -0.          -0.\n",
      "    1.89423838  -0.          -0.           3.60021979  -0.        ]\n",
      " [ -0.38015482   0.           0.           0.           0.\n",
      "   -3.78847676   0.           0.          -7.20043957   0.        ]\n",
      " [ -0.95038706   0.           0.           0.           0.\n",
      "   -9.47119189   0.           0.         -18.00109893   0.        ]\n",
      " [ -1.5206193    0.           0.           0.           0.\n",
      "  -15.15390703   0.           0.         -28.80175829   0.        ]\n",
      " [ -2.09085154   0.           0.           0.           0.\n",
      "  -20.83662216   0.           0.         -39.60241766   0.        ]\n",
      " [ -2.66108377   0.           0.           0.           0.\n",
      "  -26.51933729   0.           0.         -50.40307702   0.        ]]\n"
     ]
    }
   ],
   "source": [
    "# backpropagation example\n",
    "grad_output = 2 * (y_pred - y)\n",
    "grad_b = h_relu.T.dot(grad_output)\n",
    "grad_h_relu = grad_output.dot(b.T)\n",
    "grad_h = grad_h_relu.copy()\n",
    "grad_h[h < 0] = 0\n",
    "grad_a = x.T.dot(grad_h)\n",
    "print(\"grad_b=\",grad_b)\n",
    "print(\"grad_a=\",grad_a)"
   ]
  },
  {
   "cell_type": "code",
   "execution_count": 85,
   "id": "6d0a2fc1",
   "metadata": {},
   "outputs": [
    {
     "name": "stdout",
     "output_type": "stream",
     "text": [
      "[[ 1.01642322 -1.90153923 -1.27775624 -0.41237687 -0.60327595]\n",
      " [ 2.26020596  0.31218538  0.27523485 -0.95732274 -0.11463166]\n",
      " [-1.39982345  1.70170235 -1.15374709  0.24395556 -0.61331239]\n",
      " [ 0.79324975  0.28663137  0.08134893  2.16664781  1.15402172]\n",
      " [-0.51724966  0.35621952 -0.65100515  2.07527713  0.69959339]\n",
      " [-0.60465487  0.18824795 -2.43962543 -0.79888184 -0.0410826 ]\n",
      " [-0.92818812  1.02173735  0.74131528  0.06353761 -1.74050123]\n",
      " [ 0.05503037  1.96187848 -0.73031071 -0.83708413  0.47037393]]\n",
      "[[-0.1560809  -0.8984449  -1.06281364  1.32290157  1.46747099 -0.73631116\n",
      "  -0.27061424  1.07910039]\n",
      " [-0.17521401 -0.10934969 -0.08721202 -1.21624417  0.036739   -0.77074377\n",
      "   0.09288086  0.86549414]\n",
      " [ 1.04964678  1.6248264  -0.27280476 -1.010597   -0.47495571  0.32579237\n",
      "   0.33529786 -0.7015772 ]\n",
      " [ 0.89395456 -1.05168579 -1.00139216  0.01172436 -2.52986873 -0.4369866\n",
      "  -1.21051417 -1.20443299]\n",
      " [ 1.17801747  0.55523189  0.11654853  0.42280992  0.26394248 -0.58355495\n",
      "  -1.2501468   1.26146751]]\n"
     ]
    }
   ],
   "source": [
    "# Create features\n",
    "x = np.array([[-7.0, -4.0, -1.0, 2.0, 5.0, 8.0, 11.0, 14.0]])\n",
    "# Create labels\n",
    "y = np.array([[3.0, 6.0, 9.0, 12.0, 15.0, 18.0, 21.0, 24.0]])\n",
    "plt.scatter(x, y);\n",
    "\n",
    "# Initialize weights and set the parameters\n",
    "n_steps = 400\n",
    "\n",
    "H_dimension = 5\n",
    "\n",
    "learning_rate = 1e-5\n",
    "\n",
    "a = np.random.randn(8, H_dimension)\n",
    "b = np.random.randn(H_dimension, 8)\n",
    "print(a)\n",
    "print(b)"
   ]
  },
  {
   "cell_type": "code",
   "execution_count": 86,
   "id": "5712d67e",
   "metadata": {},
   "outputs": [
    {
     "data": {
      "image/png": "[encoded data removed]",
      "text/plain": [
       "<Figure size 640x480 with 1 Axes>"
      ]
     },
     "metadata": {},
     "output_type": "display_data"
    }
   ],
   "source": [
    "L = []\n",
    "for step in range(n_steps):\n",
    "    # Forward pass\n",
    "    h = x.dot(a)\n",
    "    h_relu = np.maximum(h,0)\n",
    "    y_pred = h_relu.dot(b)\n",
    "    loss = np.square(y_pred - y)\n",
    "    loss_sum=loss.sum()\n",
    "    L.append(loss_sum)\n",
    "    # Backward pass\n",
    "    grad_output = 2 * (y_pred - y)\n",
    "    grad_b = h_relu.T.dot(grad_output)\n",
    "    grad_h_relu = grad_output.dot(b.T)\n",
    "    grad_h = grad_h_relu.copy()\n",
    "    grad_h[h < 0] = 0\n",
    "    grad_a = x.T.dot(grad_h)\n",
    "    \n",
    "    # Update weights\n",
    "    a -= learning_rate * grad_a\n",
    "    b -= learning_rate * grad_b\n",
    "    \n",
    "    \n",
    "# we plot aour learning curve\n",
    "Xaxis = np.arange(0,n_steps)\n",
    "#plt.subplot(121)\n",
    "plt.title('loss evolution')\n",
    "plt.plot(Xaxis,L,label='loss')\n",
    "plt.xlabel('iterations')\n",
    "plt.ylabel('squared loss')\n",
    "plt.show()"
   ]
  },
  {
   "cell_type": "code",
   "execution_count": 94,
   "id": "c8ba8544",
   "metadata": {
    "scrolled": false
   },
   "outputs": [
    {
     "name": "stdout",
     "output_type": "stream",
     "text": [
      "[[-7. -4. -1.  2.  5.  8. 11. 14.]]\n",
      "[[ 2.99999796  5.99999904  8.99999935 11.99998644 15.00000111 17.99999172\n",
      "  21.00000172 24.00001059]]\n",
      "[[ 3.  6.  9. 12. 15. 18. 21. 24.]]\n"
     ]
    },
    {
     "data": {
      "image/png": "[encoded data removed]",
      "text/plain": [
       "<Figure size 640x480 with 1 Axes>"
      ]
     },
     "metadata": {},
     "output_type": "display_data"
    }
   ],
   "source": [
    "h = x.dot(a)\n",
    "h_relu = np.maximum(h,0)\n",
    "y_pred = h_relu.dot(b)\n",
    "print(x)\n",
    "print(y_pred)\n",
    "print(np.round(y_pred))\n",
    "true_x = np.linspace(-30, 30, 100)\n",
    "true_y = true_x + 10\n",
    "plt.plot(true_x, true_y, linewidth=1.0, color='green', linestyle='dashed')\n",
    "plt.scatter(x, y_pred);"
   ]
  },
  {
   "cell_type": "code",
   "execution_count": 97,
   "id": "854866c3",
   "metadata": {
    "scrolled": false
   },
   "outputs": [
    {
     "name": "stdout",
     "output_type": "stream",
     "text": [
      "[[ 4.64006971  9.28014424 13.9202176  18.56027049 23.20036604 27.84042438\n",
      "  32.48051272 37.1205993 ]]\n"
     ]
    },
    {
     "data": {
      "image/png": "[encoded data removed]",
      "text/plain": [
       "<Figure size 640x480 with 1 Axes>"
      ]
     },
     "metadata": {},
     "output_type": "display_data"
    }
   ],
   "source": [
    "x_new = np.array([[-2.0, -6.0, 0.0, 4.0, 6.0, 12.0, 20.0, 28.0]])\n",
    "h = x_new.dot(a)\n",
    "h_relu = np.maximum(h,0)\n",
    "y_pred = h_relu.dot(b)\n",
    "print(y_pred)\n",
    "plt.plot(true_x, true_y, linewidth=1.0, color='green', linestyle='dashed')\n",
    "plt.scatter(x_new, y_pred);"
   ]
  },
  {
   "cell_type": "markdown",
   "id": "e139d61f",
   "metadata": {},
   "source": [
    "# More data"
   ]
  }
 ],
 "metadata": {
  "kernelspec": {
   "display_name": "Python [conda env:regression_network]",
   "language": "python",
   "name": "conda-env-regression_network-py"
  },
  "language_info": {
   "codemirror_mode": {
    "name": "ipython",
    "version": 3
   },
   "file_extension": ".py",
   "mimetype": "text/x-python",
   "name": "python",
   "nbconvert_exporter": "python",
   "pygments_lexer": "ipython3",
   "version": "3.10.11"
  }
 },
 "nbformat": 4,
 "nbformat_minor": 5
}
